{
 "cells": [
  {
   "cell_type": "code",
   "execution_count": 47,
   "id": "ecbe1142",
   "metadata": {
    "scrolled": true
   },
   "outputs": [
    {
     "name": "stderr",
     "output_type": "stream",
     "text": [
      "C:\\Users\\soren\\anaconda3\\lib\\site-packages\\openpyxl\\worksheet\\_reader.py:312: UserWarning: Data Validation extension is not supported and will be removed\n",
      "  warn(msg)\n"
     ]
    }
   ],
   "source": [
    "import pandas as pd\n",
    "\n",
    "kolonner = [0, 1, 2, 3, 4]\n",
    "kol_names = ['A','B','C','D', 'E']\n",
    "\n",
    "df = pd.read_excel('TestSaltenLangso.xlsx', sheet_name='Individual Cost Statement',usecols=kolonner, names=kol_names, header=None)"
   ]
  },
  {
   "cell_type": "code",
   "execution_count": 67,
   "id": "50c31d87",
   "metadata": {},
   "outputs": [
    {
     "name": "stdout",
     "output_type": "stream",
     "text": [
      "Valuta: Dkr Partner: Københavns Universitet Periode To: 31. December 2020\n"
     ]
    }
   ],
   "source": [
    "from openpyxl.utils.dataframe import dataframe_to_rows\n",
    "\n",
    "#sr = df['E'].squeeze()\n",
    "#print(sr[37])\n",
    "\n",
    "rk = 37\n",
    "cl = 'E'\n",
    "\n",
    "celle_dic = {\n",
    "    'valuta': (37, 'E'),\n",
    "    'partner': (5, 'B'),\n",
    "    'periode_to': (3, 'E'),\n",
    "    \n",
    "}\n",
    "\n",
    "print(f\"Valuta: {df.loc[celle_dic['valuta']]} Partner: {df.loc[celle_dic['partner']]} Periode To: {df.loc[celle_dic['periode_to']]}\")"
   ]
  },
  {
   "cell_type": "code",
   "execution_count": 82,
   "id": "f3104417",
   "metadata": {},
   "outputs": [
    {
     "data": {
      "text/plain": [
       "4"
      ]
     },
     "execution_count": 82,
     "metadata": {},
     "output_type": "execute_result"
    }
   ],
   "source": [
    "df_cost = df.loc[10:22,['B']]\n",
    "df_income = df.loc[10:13,['E']]\n",
    "len(df_income)"
   ]
  },
  {
   "cell_type": "code",
   "execution_count": 69,
   "id": "ae5997e4",
   "metadata": {},
   "outputs": [
    {
     "name": "stdout",
     "output_type": "stream",
     "text": [
      "[1737465.2436388398]\n",
      "[0]\n",
      "[0]\n",
      "[40854.23]\n",
      "[0]\n",
      "[0]\n",
      "[0]\n",
      "[0]\n",
      "[0]\n",
      "[0]\n",
      "[267.2]\n",
      "[124501]\n",
      "[1903087.6736388397]\n"
     ]
    }
   ],
   "source": [
    "for row_str in dataframe_to_rows(df_cost, index=False, header=False):\n",
    "    #for i in row_str:\n",
    "    print(row_str)\n"
   ]
  },
  {
   "cell_type": "code",
   "execution_count": 70,
   "id": "5678f8ee",
   "metadata": {},
   "outputs": [],
   "source": [
    "talrk = []\n",
    "for i in df_cost['B']:\n",
    "    talrk.append(round(i*(1/7.45)))"
   ]
  },
  {
   "cell_type": "code",
   "execution_count": 71,
   "id": "55a2147d",
   "metadata": {},
   "outputs": [
    {
     "data": {
      "text/plain": [
       "[233217, 0, 0, 5484, 0, 0, 0, 0, 0, 0, 36, 16712, 255448]"
      ]
     },
     "execution_count": 71,
     "metadata": {},
     "output_type": "execute_result"
    }
   ],
   "source": [
    "talrk"
   ]
  },
  {
   "cell_type": "code",
   "execution_count": 72,
   "id": "5b6bbc97",
   "metadata": {},
   "outputs": [],
   "source": [
    "df_cost.insert(1, 'EURO', talrk)"
   ]
  },
  {
   "cell_type": "code",
   "execution_count": 73,
   "id": "6f5f5e3c",
   "metadata": {},
   "outputs": [
    {
     "data": {
      "text/html": [
       "<div>\n",
       "<style scoped>\n",
       "    .dataframe tbody tr th:only-of-type {\n",
       "        vertical-align: middle;\n",
       "    }\n",
       "\n",
       "    .dataframe tbody tr th {\n",
       "        vertical-align: top;\n",
       "    }\n",
       "\n",
       "    .dataframe thead th {\n",
       "        text-align: right;\n",
       "    }\n",
       "</style>\n",
       "<table border=\"1\" class=\"dataframe\">\n",
       "  <thead>\n",
       "    <tr style=\"text-align: right;\">\n",
       "      <th></th>\n",
       "      <th>B</th>\n",
       "      <th>EURO</th>\n",
       "    </tr>\n",
       "  </thead>\n",
       "  <tbody>\n",
       "    <tr>\n",
       "      <th>10</th>\n",
       "      <td>1737465.243639</td>\n",
       "      <td>233217</td>\n",
       "    </tr>\n",
       "    <tr>\n",
       "      <th>11</th>\n",
       "      <td>0</td>\n",
       "      <td>0</td>\n",
       "    </tr>\n",
       "    <tr>\n",
       "      <th>12</th>\n",
       "      <td>0</td>\n",
       "      <td>0</td>\n",
       "    </tr>\n",
       "    <tr>\n",
       "      <th>13</th>\n",
       "      <td>40854.23</td>\n",
       "      <td>5484</td>\n",
       "    </tr>\n",
       "    <tr>\n",
       "      <th>14</th>\n",
       "      <td>0</td>\n",
       "      <td>0</td>\n",
       "    </tr>\n",
       "    <tr>\n",
       "      <th>15</th>\n",
       "      <td>0</td>\n",
       "      <td>0</td>\n",
       "    </tr>\n",
       "    <tr>\n",
       "      <th>16</th>\n",
       "      <td>0</td>\n",
       "      <td>0</td>\n",
       "    </tr>\n",
       "    <tr>\n",
       "      <th>17</th>\n",
       "      <td>0</td>\n",
       "      <td>0</td>\n",
       "    </tr>\n",
       "    <tr>\n",
       "      <th>18</th>\n",
       "      <td>0</td>\n",
       "      <td>0</td>\n",
       "    </tr>\n",
       "    <tr>\n",
       "      <th>19</th>\n",
       "      <td>0</td>\n",
       "      <td>0</td>\n",
       "    </tr>\n",
       "    <tr>\n",
       "      <th>20</th>\n",
       "      <td>267.2</td>\n",
       "      <td>36</td>\n",
       "    </tr>\n",
       "    <tr>\n",
       "      <th>21</th>\n",
       "      <td>124501</td>\n",
       "      <td>16712</td>\n",
       "    </tr>\n",
       "    <tr>\n",
       "      <th>22</th>\n",
       "      <td>1903087.673639</td>\n",
       "      <td>255448</td>\n",
       "    </tr>\n",
       "  </tbody>\n",
       "</table>\n",
       "</div>"
      ],
      "text/plain": [
       "                 B    EURO\n",
       "10  1737465.243639  233217\n",
       "11               0       0\n",
       "12               0       0\n",
       "13        40854.23    5484\n",
       "14               0       0\n",
       "15               0       0\n",
       "16               0       0\n",
       "17               0       0\n",
       "18               0       0\n",
       "19               0       0\n",
       "20           267.2      36\n",
       "21          124501   16712\n",
       "22  1903087.673639  255448"
      ]
     },
     "execution_count": 73,
     "metadata": {},
     "output_type": "execute_result"
    }
   ],
   "source": [
    "df_cost"
   ]
  },
  {
   "cell_type": "code",
   "execution_count": 74,
   "id": "948b795d",
   "metadata": {},
   "outputs": [],
   "source": [
    "talrk = []\n",
    "for i in df_cost['EURO']:\n",
    "    talrk.append(round(i*(7.45)))"
   ]
  },
  {
   "cell_type": "code",
   "execution_count": 75,
   "id": "3324eeb0",
   "metadata": {},
   "outputs": [
    {
     "data": {
      "text/plain": [
       "[1737467, 0, 0, 40856, 0, 0, 0, 0, 0, 0, 268, 124504, 1903088]"
      ]
     },
     "execution_count": 75,
     "metadata": {},
     "output_type": "execute_result"
    }
   ],
   "source": [
    "talrk"
   ]
  },
  {
   "cell_type": "code",
   "execution_count": 76,
   "id": "cafe97f4",
   "metadata": {},
   "outputs": [],
   "source": [
    "df_cost.insert(2, 'Dkr', talrk)"
   ]
  },
  {
   "cell_type": "code",
   "execution_count": 77,
   "id": "2906a04c",
   "metadata": {},
   "outputs": [
    {
     "data": {
      "text/html": [
       "<div>\n",
       "<style scoped>\n",
       "    .dataframe tbody tr th:only-of-type {\n",
       "        vertical-align: middle;\n",
       "    }\n",
       "\n",
       "    .dataframe tbody tr th {\n",
       "        vertical-align: top;\n",
       "    }\n",
       "\n",
       "    .dataframe thead th {\n",
       "        text-align: right;\n",
       "    }\n",
       "</style>\n",
       "<table border=\"1\" class=\"dataframe\">\n",
       "  <thead>\n",
       "    <tr style=\"text-align: right;\">\n",
       "      <th></th>\n",
       "      <th>B</th>\n",
       "      <th>EURO</th>\n",
       "      <th>Dkr</th>\n",
       "    </tr>\n",
       "  </thead>\n",
       "  <tbody>\n",
       "    <tr>\n",
       "      <th>10</th>\n",
       "      <td>1737465.243639</td>\n",
       "      <td>233217</td>\n",
       "      <td>1737467</td>\n",
       "    </tr>\n",
       "    <tr>\n",
       "      <th>11</th>\n",
       "      <td>0</td>\n",
       "      <td>0</td>\n",
       "      <td>0</td>\n",
       "    </tr>\n",
       "    <tr>\n",
       "      <th>12</th>\n",
       "      <td>0</td>\n",
       "      <td>0</td>\n",
       "      <td>0</td>\n",
       "    </tr>\n",
       "    <tr>\n",
       "      <th>13</th>\n",
       "      <td>40854.23</td>\n",
       "      <td>5484</td>\n",
       "      <td>40856</td>\n",
       "    </tr>\n",
       "    <tr>\n",
       "      <th>14</th>\n",
       "      <td>0</td>\n",
       "      <td>0</td>\n",
       "      <td>0</td>\n",
       "    </tr>\n",
       "    <tr>\n",
       "      <th>15</th>\n",
       "      <td>0</td>\n",
       "      <td>0</td>\n",
       "      <td>0</td>\n",
       "    </tr>\n",
       "    <tr>\n",
       "      <th>16</th>\n",
       "      <td>0</td>\n",
       "      <td>0</td>\n",
       "      <td>0</td>\n",
       "    </tr>\n",
       "    <tr>\n",
       "      <th>17</th>\n",
       "      <td>0</td>\n",
       "      <td>0</td>\n",
       "      <td>0</td>\n",
       "    </tr>\n",
       "    <tr>\n",
       "      <th>18</th>\n",
       "      <td>0</td>\n",
       "      <td>0</td>\n",
       "      <td>0</td>\n",
       "    </tr>\n",
       "    <tr>\n",
       "      <th>19</th>\n",
       "      <td>0</td>\n",
       "      <td>0</td>\n",
       "      <td>0</td>\n",
       "    </tr>\n",
       "    <tr>\n",
       "      <th>20</th>\n",
       "      <td>267.2</td>\n",
       "      <td>36</td>\n",
       "      <td>268</td>\n",
       "    </tr>\n",
       "    <tr>\n",
       "      <th>21</th>\n",
       "      <td>124501</td>\n",
       "      <td>16712</td>\n",
       "      <td>124504</td>\n",
       "    </tr>\n",
       "    <tr>\n",
       "      <th>22</th>\n",
       "      <td>1903087.673639</td>\n",
       "      <td>255448</td>\n",
       "      <td>1903088</td>\n",
       "    </tr>\n",
       "  </tbody>\n",
       "</table>\n",
       "</div>"
      ],
      "text/plain": [
       "                 B    EURO      Dkr\n",
       "10  1737465.243639  233217  1737467\n",
       "11               0       0        0\n",
       "12               0       0        0\n",
       "13        40854.23    5484    40856\n",
       "14               0       0        0\n",
       "15               0       0        0\n",
       "16               0       0        0\n",
       "17               0       0        0\n",
       "18               0       0        0\n",
       "19               0       0        0\n",
       "20           267.2      36      268\n",
       "21          124501   16712   124504\n",
       "22  1903087.673639  255448  1903088"
      ]
     },
     "execution_count": 77,
     "metadata": {},
     "output_type": "execute_result"
    }
   ],
   "source": [
    "df_cost"
   ]
  },
  {
   "cell_type": "code",
   "execution_count": 78,
   "id": "054e69b2",
   "metadata": {},
   "outputs": [],
   "source": [
    "df_cost = df_cost.drop(columns=['B'])"
   ]
  },
  {
   "cell_type": "code",
   "execution_count": 80,
   "id": "8c219807",
   "metadata": {},
   "outputs": [
    {
     "name": "stdout",
     "output_type": "stream",
     "text": [
      "['EURO', 'Dkr']\n",
      "[233217, 1737467]\n",
      "[0, 0]\n",
      "[0, 0]\n",
      "[5484, 40856]\n",
      "[0, 0]\n",
      "[0, 0]\n",
      "[0, 0]\n",
      "[0, 0]\n",
      "[0, 0]\n",
      "[0, 0]\n",
      "[36, 268]\n",
      "[16712, 124504]\n",
      "[255448, 1903088]\n"
     ]
    },
    {
     "data": {
      "text/html": [
       "<div>\n",
       "<style scoped>\n",
       "    .dataframe tbody tr th:only-of-type {\n",
       "        vertical-align: middle;\n",
       "    }\n",
       "\n",
       "    .dataframe tbody tr th {\n",
       "        vertical-align: top;\n",
       "    }\n",
       "\n",
       "    .dataframe thead th {\n",
       "        text-align: right;\n",
       "    }\n",
       "</style>\n",
       "<table border=\"1\" class=\"dataframe\">\n",
       "  <thead>\n",
       "    <tr style=\"text-align: right;\">\n",
       "      <th></th>\n",
       "      <th>EURO</th>\n",
       "      <th>Dkr</th>\n",
       "    </tr>\n",
       "  </thead>\n",
       "  <tbody>\n",
       "    <tr>\n",
       "      <th>10</th>\n",
       "      <td>233217</td>\n",
       "      <td>1737467</td>\n",
       "    </tr>\n",
       "    <tr>\n",
       "      <th>11</th>\n",
       "      <td>0</td>\n",
       "      <td>0</td>\n",
       "    </tr>\n",
       "    <tr>\n",
       "      <th>12</th>\n",
       "      <td>0</td>\n",
       "      <td>0</td>\n",
       "    </tr>\n",
       "    <tr>\n",
       "      <th>13</th>\n",
       "      <td>5484</td>\n",
       "      <td>40856</td>\n",
       "    </tr>\n",
       "    <tr>\n",
       "      <th>14</th>\n",
       "      <td>0</td>\n",
       "      <td>0</td>\n",
       "    </tr>\n",
       "    <tr>\n",
       "      <th>15</th>\n",
       "      <td>0</td>\n",
       "      <td>0</td>\n",
       "    </tr>\n",
       "    <tr>\n",
       "      <th>16</th>\n",
       "      <td>0</td>\n",
       "      <td>0</td>\n",
       "    </tr>\n",
       "    <tr>\n",
       "      <th>17</th>\n",
       "      <td>0</td>\n",
       "      <td>0</td>\n",
       "    </tr>\n",
       "    <tr>\n",
       "      <th>18</th>\n",
       "      <td>0</td>\n",
       "      <td>0</td>\n",
       "    </tr>\n",
       "    <tr>\n",
       "      <th>19</th>\n",
       "      <td>0</td>\n",
       "      <td>0</td>\n",
       "    </tr>\n",
       "    <tr>\n",
       "      <th>20</th>\n",
       "      <td>36</td>\n",
       "      <td>268</td>\n",
       "    </tr>\n",
       "    <tr>\n",
       "      <th>21</th>\n",
       "      <td>16712</td>\n",
       "      <td>124504</td>\n",
       "    </tr>\n",
       "    <tr>\n",
       "      <th>22</th>\n",
       "      <td>255448</td>\n",
       "      <td>1903088</td>\n",
       "    </tr>\n",
       "  </tbody>\n",
       "</table>\n",
       "</div>"
      ],
      "text/plain": [
       "      EURO      Dkr\n",
       "10  233217  1737467\n",
       "11       0        0\n",
       "12       0        0\n",
       "13    5484    40856\n",
       "14       0        0\n",
       "15       0        0\n",
       "16       0        0\n",
       "17       0        0\n",
       "18       0        0\n",
       "19       0        0\n",
       "20      36      268\n",
       "21   16712   124504\n",
       "22  255448  1903088"
      ]
     },
     "execution_count": 80,
     "metadata": {},
     "output_type": "execute_result"
    }
   ],
   "source": [
    "for row_str in dataframe_to_rows(df_cost, index=False, header=True):\n",
    "    #for i in row_str:\n",
    "    print(row_str)\n",
    "df_cost"
   ]
  },
  {
   "cell_type": "code",
   "execution_count": null,
   "id": "5f0b0df2",
   "metadata": {},
   "outputs": [],
   "source": []
  }
 ],
 "metadata": {
  "kernelspec": {
   "display_name": "Python 3 (ipykernel)",
   "language": "python",
   "name": "python3"
  },
  "language_info": {
   "codemirror_mode": {
    "name": "ipython",
    "version": 3
   },
   "file_extension": ".py",
   "mimetype": "text/x-python",
   "name": "python",
   "nbconvert_exporter": "python",
   "pygments_lexer": "ipython3",
   "version": "3.9.7"
  }
 },
 "nbformat": 4,
 "nbformat_minor": 5
}
